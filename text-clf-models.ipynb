{
 "cells": [
  {
   "cell_type": "markdown",
   "metadata": {},
   "source": [
    "# Boosting, Bagging, NB, and SVC Implementations for Text Classification: A Performance Comparison"
   ]
  },
  {
   "cell_type": "code",
   "execution_count": 2,
   "metadata": {},
   "outputs": [],
   "source": [
    "import os\n",
    "from time import time\n",
    "import numpy as np\n",
    "import pandas as pd, polars as pl\n",
    "from sklearn.model_selection import train_test_split\n",
    "from sklearn.feature_extraction.text import TfidfVectorizer\n",
    "from sklearn.naive_bayes import MultinomialNB\n",
    "from sklearn.svm import LinearSVC\n",
    "from sklearn.tree import DecisionTreeClassifier\n",
    "from sklearn.experimental import enable_hist_gradient_boosting\n",
    "from sklearn.ensemble import (RandomForestClassifier,\n",
    "                              AdaBoostClassifier,\n",
    "                              GradientBoostingClassifier,\n",
    "                              HistGradientBoostingClassifier)\n",
    "from xgboost import XGBClassifier\n",
    "# from lightgbm import LGBMClassifier\n",
    "from catboost import CatBoostClassifier\n",
    "import matplotlib.pyplot as plt"
   ]
  },
  {
   "cell_type": "markdown",
   "metadata": {},
   "source": [
    "### Read in data from txt directories (`pos`, `neg`, `train`, `test`)"
   ]
  },
  {
   "cell_type": "code",
   "execution_count": 3,
   "metadata": {},
   "outputs": [],
   "source": [
    "def read_data(split: str, sentiment: str):\n",
    "    dir = os.listdir(f'data/{split}/{sentiment}/') # directory of reviews\n",
    "\n",
    "    review_rating = {}\n",
    "    for file in dir:\n",
    "        rating = file.split(\"_\")[-1].split(\".\")[0] # rating is in the file name\n",
    "        with open(f\"data/{split}/{sentiment}/{file}\") as file:\n",
    "            for line in file:\n",
    "                line = \" \".join(line.split(\"<br />\")) # replace line break symbols with spaces\n",
    "                review_rating[line] = rating\n",
    "    return review_rating"
   ]
  },
  {
   "cell_type": "markdown",
   "metadata": {},
   "source": [
    "### Form `train` and `test` sets"
   ]
  },
  {
   "cell_type": "code",
   "execution_count": 12,
   "metadata": {},
   "outputs": [],
   "source": [
    "pos_train = read_data('train', 'pos')\n",
    "neg_train = read_data('train', 'neg')\n",
    "pos_test = read_data('test', 'neg')\n",
    "neg_test = read_data('test', 'neg')\n",
    "\n",
    "train = pos_train | neg_train\n",
    "test = pos_test | neg_test"
   ]
  },
  {
   "cell_type": "code",
   "execution_count": 13,
   "metadata": {},
   "outputs": [],
   "source": [
    "train_data = pd.DataFrame(data=train.items(), \n",
    "                          index=range(len(train.keys())), \n",
    "                          columns=['Review', 'Rating'])\n",
    "\n",
    "test_data = pd.DataFrame(data=test.items(), \n",
    "                          index=range(len(test.keys())), \n",
    "                          columns=['Review', 'Rating'])"
   ]
  },
  {
   "cell_type": "code",
   "execution_count": null,
   "metadata": {},
   "outputs": [],
   "source": [
    "X_train = TfidfVectorizer().fit_transform(train_data.Review).toarray()\n",
    "X_test = TfidfVectorizer().fit_transform(test_data.Review).toarray()\n",
    "\n",
    "y_train = train_data.Rating\n",
    "y_test = test_data.Rating"
   ]
  },
  {
   "cell_type": "markdown",
   "metadata": {},
   "source": [
    "### Read in train_data from `.feat` file"
   ]
  },
  {
   "cell_type": "code",
   "execution_count": 3,
   "metadata": {},
   "outputs": [],
   "source": [
    "train_data = []\n",
    "with open(\"data/train/labeledBow.feat\") as file:\n",
    "    for line in file:\n",
    "        line = [(line:=line.split())[0]] + [l.split(\":\")[1] for l in line[1:500]]\n",
    "        train_data.append(line)\n",
    "\n",
    "train = pd.DataFrame(train_data).fillna(0).rename({0:'Rating'}, axis=1)"
   ]
  },
  {
   "cell_type": "markdown",
   "metadata": {},
   "source": [
    "### Read in test_data from `.feat` file"
   ]
  },
  {
   "cell_type": "code",
   "execution_count": 4,
   "metadata": {},
   "outputs": [],
   "source": [
    "test_data = []\n",
    "with open(\"data/test/labeledBow.feat\") as file:\n",
    "    for line in file:\n",
    "        line = [(line:=line.split())[0]] + [l.split(\":\")[1] for l in line[1:500]]\n",
    "        test_data.append(line)\n",
    "\n",
    "test = pd.DataFrame(test_data).fillna(0).rename({0:'Rating'}, axis=1)"
   ]
  },
  {
   "cell_type": "markdown",
   "metadata": {},
   "source": [
    "### Clean `train` and `test` data"
   ]
  },
  {
   "cell_type": "code",
   "execution_count": 5,
   "metadata": {},
   "outputs": [],
   "source": [
    "def clean(df):\n",
    "    df = df.copy()\n",
    "\n",
    "    df = df.fillna(0).rename({0:'Rating'}, axis=1)\n",
    "    df.columns = ['Rating'] + [f\"Feature{i}\" for i in range(1, df.shape[1])]\n",
    "\n",
    "    for c in df.columns:\n",
    "        df[c] = df[c].astype(np.int64)\n",
    "\n",
    "    return df"
   ]
  },
  {
   "cell_type": "code",
   "execution_count": 6,
   "metadata": {},
   "outputs": [],
   "source": [
    "train = clean(train)\n",
    "test = clean(test)"
   ]
  },
  {
   "cell_type": "markdown",
   "metadata": {},
   "source": [
    "### Split train, test, and validation sets"
   ]
  },
  {
   "cell_type": "code",
   "execution_count": null,
   "metadata": {},
   "outputs": [],
   "source": [
    "X_train = train.drop('Rating', axis=1).to_numpy()\n",
    "y_train = train.Rating.to_numpy().ravel()\n",
    "\n",
    "X_test = test.drop('Rating', axis=1).to_numpy()\n",
    "y_test = test.Rating.to_numpy().ravel()\n",
    "\n",
    "X_train_sub, X_val, y_train_sub, y_val = train_test_split(X_train, y_train, test_size=0.1)"
   ]
  },
  {
   "cell_type": "markdown",
   "metadata": {},
   "source": [
    "### Building Each Model"
   ]
  },
  {
   "cell_type": "code",
   "execution_count": 8,
   "metadata": {},
   "outputs": [],
   "source": [
    "dtree = DecisionTreeClassifier(max_depth=12, random_state=1234)\n",
    "\n",
    "randfrst = RandomForestClassifier(n_estimators=500,\n",
    "                            max_features=0.06,\n",
    "                            n_jobs=6,\n",
    "                            random_state=1234)\n",
    "\n",
    "mnb = MultinomialNB()\n",
    "\n",
    "dec_stump = DecisionTreeClassifier(max_depth=1, max_features=0.06)                      \n",
    "ab = AdaBoostClassifier(estimator=dec_stump, \n",
    "                        n_estimators=500, \n",
    "                        learning_rate=0.5, \n",
    "                        random_state=1234)\n",
    "\n",
    "gradboost = GradientBoostingClassifier(n_estimators=2000,\n",
    "                                 subsample=0.67,\n",
    "                                 max_features=0.06,\n",
    "                                 validation_fraction=0.1,\n",
    "                                 n_iter_no_change=15,\n",
    "                                 verbose=0,\n",
    "                                 random_state=1234)\n",
    "\n",
    "histgrad = HistGradientBoostingClassifier(max_iter=2000,\n",
    "                                      validation_fraction=0.1,\n",
    "                                      n_iter_no_change=15,\n",
    "                                      verbose=0,\n",
    "                                      random_state=1234)\n",
    "\n",
    "xgb = XGBClassifier(n_estimators=2000,\n",
    "                    tree_method='hist',\n",
    "                    subsample=0.67,\n",
    "                    colsample_level=0.06,\n",
    "                    verbose=0,\n",
    "                    n_jobs=6,\n",
    "                    random_state=1234)\n",
    "\n",
    "catboost = CatBoostClassifier(n_estimators=2000,\n",
    "                        colsample_bylevel=0.06,\n",
    "                        max_leaves=31,\n",
    "                        subsample=0.67,\n",
    "                        verbose=0,\n",
    "                        thread_count=6,\n",
    "                        random_state=1234)"
   ]
  },
  {
   "cell_type": "markdown",
   "metadata": {},
   "source": [
    "### Model Comparison"
   ]
  },
  {
   "cell_type": "code",
   "execution_count": 16,
   "metadata": {},
   "outputs": [],
   "source": [
    "models = [dtree, randfrst, mnb, ab, gradboost, histgrad, xgb, catboost]\n",
    "model_names = [i.__class__.__name__ for i in models]"
   ]
  },
  {
   "cell_type": "code",
   "execution_count": 17,
   "metadata": {},
   "outputs": [],
   "source": [
    "earlystops = ['XGBClassifier',\n",
    "             'CatBoostClassifier']"
   ]
  },
  {
   "cell_type": "markdown",
   "metadata": {},
   "source": [
    "### Run Models + Runtime and Manual Accuracy"
   ]
  },
  {
   "cell_type": "code",
   "execution_count": 18,
   "metadata": {},
   "outputs": [
    {
     "ename": "ValueError",
     "evalue": "Invalid classes inferred from unique values of `y`.  Expected: [0 1 2 3 4 5 6 7], got [ 1  2  3  4  7  8  9 10]",
     "output_type": "error",
     "traceback": [
      "\u001b[0;31m---------------------------------------------------------------------------\u001b[0m",
      "\u001b[0;31mValueError\u001b[0m                                Traceback (most recent call last)",
      "\u001b[1;32m/Users/rohilk/Desktop/Ensemble_NB_SVC_Text_Clf/text-clf-models.ipynb Cell 33\u001b[0m in \u001b[0;36m<cell line: 3>\u001b[0;34m()\u001b[0m\n\u001b[1;32m      <a href='vscode-notebook-cell:/Users/rohilk/Desktop/Ensemble_NB_SVC_Text_Clf/text-clf-models.ipynb#X45sZmlsZQ%3D%3D?line=4'>5</a>\u001b[0m start_time \u001b[39m=\u001b[39m time()\n\u001b[1;32m      <a href='vscode-notebook-cell:/Users/rohilk/Desktop/Ensemble_NB_SVC_Text_Clf/text-clf-models.ipynb#X45sZmlsZQ%3D%3D?line=5'>6</a>\u001b[0m \u001b[39m# if n in earlystops:\u001b[39;00m\n\u001b[1;32m      <a href='vscode-notebook-cell:/Users/rohilk/Desktop/Ensemble_NB_SVC_Text_Clf/text-clf-models.ipynb#X45sZmlsZQ%3D%3D?line=6'>7</a>\u001b[0m \u001b[39m#     m.fit(X_train_sub,\u001b[39;00m\n\u001b[1;32m      <a href='vscode-notebook-cell:/Users/rohilk/Desktop/Ensemble_NB_SVC_Text_Clf/text-clf-models.ipynb#X45sZmlsZQ%3D%3D?line=7'>8</a>\u001b[0m \u001b[39m#           y_train_sub,\u001b[39;00m\n\u001b[0;32m   (...)\u001b[0m\n\u001b[1;32m     <a href='vscode-notebook-cell:/Users/rohilk/Desktop/Ensemble_NB_SVC_Text_Clf/text-clf-models.ipynb#X45sZmlsZQ%3D%3D?line=10'>11</a>\u001b[0m \u001b[39m#           verbose=0)\u001b[39;00m\n\u001b[1;32m     <a href='vscode-notebook-cell:/Users/rohilk/Desktop/Ensemble_NB_SVC_Text_Clf/text-clf-models.ipynb#X45sZmlsZQ%3D%3D?line=11'>12</a>\u001b[0m \u001b[39m# else:\u001b[39;00m\n\u001b[0;32m---> <a href='vscode-notebook-cell:/Users/rohilk/Desktop/Ensemble_NB_SVC_Text_Clf/text-clf-models.ipynb#X45sZmlsZQ%3D%3D?line=12'>13</a>\u001b[0m m\u001b[39m.\u001b[39;49mfit(X_train, y_train)\n\u001b[1;32m     <a href='vscode-notebook-cell:/Users/rohilk/Desktop/Ensemble_NB_SVC_Text_Clf/text-clf-models.ipynb#X45sZmlsZQ%3D%3D?line=14'>15</a>\u001b[0m run_time \u001b[39m=\u001b[39m time() \u001b[39m-\u001b[39m start_time\n\u001b[1;32m     <a href='vscode-notebook-cell:/Users/rohilk/Desktop/Ensemble_NB_SVC_Text_Clf/text-clf-models.ipynb#X45sZmlsZQ%3D%3D?line=15'>16</a>\u001b[0m accuracy \u001b[39m=\u001b[39m np\u001b[39m.\u001b[39mmean(m\u001b[39m.\u001b[39mpredict(X_test) \u001b[39m==\u001b[39m y_test)\n",
      "File \u001b[0;32m~/opt/anaconda3/lib/python3.9/site-packages/xgboost/core.py:620\u001b[0m, in \u001b[0;36mrequire_keyword_args.<locals>.throw_if.<locals>.inner_f\u001b[0;34m(*args, **kwargs)\u001b[0m\n\u001b[1;32m    618\u001b[0m \u001b[39mfor\u001b[39;00m k, arg \u001b[39min\u001b[39;00m \u001b[39mzip\u001b[39m(sig\u001b[39m.\u001b[39mparameters, args):\n\u001b[1;32m    619\u001b[0m     kwargs[k] \u001b[39m=\u001b[39m arg\n\u001b[0;32m--> 620\u001b[0m \u001b[39mreturn\u001b[39;00m func(\u001b[39m*\u001b[39;49m\u001b[39m*\u001b[39;49mkwargs)\n",
      "File \u001b[0;32m~/opt/anaconda3/lib/python3.9/site-packages/xgboost/sklearn.py:1440\u001b[0m, in \u001b[0;36mXGBClassifier.fit\u001b[0;34m(self, X, y, sample_weight, base_margin, eval_set, eval_metric, early_stopping_rounds, verbose, xgb_model, sample_weight_eval_set, base_margin_eval_set, feature_weights, callbacks)\u001b[0m\n\u001b[1;32m   1435\u001b[0m     expected_classes \u001b[39m=\u001b[39m np\u001b[39m.\u001b[39marange(\u001b[39mself\u001b[39m\u001b[39m.\u001b[39mn_classes_)\n\u001b[1;32m   1436\u001b[0m \u001b[39mif\u001b[39;00m (\n\u001b[1;32m   1437\u001b[0m     \u001b[39mself\u001b[39m\u001b[39m.\u001b[39mclasses_\u001b[39m.\u001b[39mshape \u001b[39m!=\u001b[39m expected_classes\u001b[39m.\u001b[39mshape\n\u001b[1;32m   1438\u001b[0m     \u001b[39mor\u001b[39;00m \u001b[39mnot\u001b[39;00m (\u001b[39mself\u001b[39m\u001b[39m.\u001b[39mclasses_ \u001b[39m==\u001b[39m expected_classes)\u001b[39m.\u001b[39mall()\n\u001b[1;32m   1439\u001b[0m ):\n\u001b[0;32m-> 1440\u001b[0m     \u001b[39mraise\u001b[39;00m \u001b[39mValueError\u001b[39;00m(\n\u001b[1;32m   1441\u001b[0m         \u001b[39mf\u001b[39m\u001b[39m\"\u001b[39m\u001b[39mInvalid classes inferred from unique values of `y`.  \u001b[39m\u001b[39m\"\u001b[39m\n\u001b[1;32m   1442\u001b[0m         \u001b[39mf\u001b[39m\u001b[39m\"\u001b[39m\u001b[39mExpected: \u001b[39m\u001b[39m{\u001b[39;00mexpected_classes\u001b[39m}\u001b[39;00m\u001b[39m, got \u001b[39m\u001b[39m{\u001b[39;00m\u001b[39mself\u001b[39m\u001b[39m.\u001b[39mclasses_\u001b[39m}\u001b[39;00m\u001b[39m\"\u001b[39m\n\u001b[1;32m   1443\u001b[0m     )\n\u001b[1;32m   1445\u001b[0m params \u001b[39m=\u001b[39m \u001b[39mself\u001b[39m\u001b[39m.\u001b[39mget_xgb_params()\n\u001b[1;32m   1447\u001b[0m \u001b[39mif\u001b[39;00m callable(\u001b[39mself\u001b[39m\u001b[39m.\u001b[39mobjective):\n",
      "\u001b[0;31mValueError\u001b[0m: Invalid classes inferred from unique values of `y`.  Expected: [0 1 2 3 4 5 6 7], got [ 1  2  3  4  7  8  9 10]"
     ]
    }
   ],
   "source": [
    "results = pd.DataFrame(columns=['Accuracy', 'Run Time'])\n",
    "\n",
    "for m, n in zip(models, model_names):\n",
    "    \n",
    "    start_time = time()\n",
    "    # if n in earlystops:\n",
    "    #     m.fit(X_train_sub,\n",
    "    #           y_train_sub,\n",
    "    #           eval_set = [(X_val, y_val)],\n",
    "    #           early_stopping_rounds=15,\n",
    "    #           verbose=0)\n",
    "    # else:\n",
    "    m.fit(X_train, y_train)\n",
    "    \n",
    "    run_time = time() - start_time\n",
    "    accuracy = np.mean(m.predict(X_test) == y_test)\n",
    "        \n",
    "    results.loc[n] = [accuracy, run_time]\n",
    "    \n",
    "    del m"
   ]
  },
  {
   "cell_type": "markdown",
   "metadata": {},
   "source": [
    "### Report results"
   ]
  },
  {
   "cell_type": "code",
   "execution_count": 1,
   "metadata": {},
   "outputs": [
    {
     "ename": "NameError",
     "evalue": "name 'results' is not defined",
     "output_type": "error",
     "traceback": [
      "\u001b[0;31m---------------------------------------------------------------------------\u001b[0m",
      "\u001b[0;31mNameError\u001b[0m                                 Traceback (most recent call last)",
      "\u001b[1;32m/Users/rohilk/Desktop/Ensemble_NB_SVC_Text_Clf/text-clf-models.ipynb Cell 35\u001b[0m in \u001b[0;36m<cell line: 1>\u001b[0;34m()\u001b[0m\n\u001b[0;32m----> <a href='vscode-notebook-cell:/Users/rohilk/Desktop/Ensemble_NB_SVC_Text_Clf/text-clf-models.ipynb#X46sZmlsZQ%3D%3D?line=0'>1</a>\u001b[0m \u001b[39mprint\u001b[39m(results)\n",
      "\u001b[0;31mNameError\u001b[0m: name 'results' is not defined"
     ]
    }
   ],
   "source": [
    "print(results)"
   ]
  },
  {
   "cell_type": "code",
   "execution_count": null,
   "metadata": {},
   "outputs": [],
   "source": []
  }
 ],
 "metadata": {
  "kernelspec": {
   "display_name": "base",
   "language": "python",
   "name": "python3"
  },
  "language_info": {
   "codemirror_mode": {
    "name": "ipython",
    "version": 3
   },
   "file_extension": ".py",
   "mimetype": "text/x-python",
   "name": "python",
   "nbconvert_exporter": "python",
   "pygments_lexer": "ipython3",
   "version": "3.9.12"
  },
  "orig_nbformat": 4
 },
 "nbformat": 4,
 "nbformat_minor": 2
}
