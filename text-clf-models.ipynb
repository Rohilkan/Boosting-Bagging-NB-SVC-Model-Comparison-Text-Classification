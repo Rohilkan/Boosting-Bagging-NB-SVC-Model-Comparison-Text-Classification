{
 "cells": [
  {
   "cell_type": "markdown",
   "metadata": {},
   "source": [
    "# Boosting, Bagging, NB, and SVC Implementations for Text Classification: A Performance Comparison"
   ]
  },
  {
   "cell_type": "markdown",
   "metadata": {},
   "source": [
    "### Imports"
   ]
  },
  {
   "cell_type": "code",
   "execution_count": 62,
   "metadata": {},
   "outputs": [],
   "source": [
    "import os\n",
    "from time import time\n",
    "import numpy as np\n",
    "import pandas as pd, polars as pl\n",
    "from sklearn.model_selection import train_test_split\n",
    "from sklearn.feature_extraction.text import TfidfVectorizer\n",
    "from sklearn.naive_bayes import MultinomialNB\n",
    "from sklearn.svm import LinearSVC\n",
    "from sklearn.tree import DecisionTreeClassifier\n",
    "from sklearn.experimental import enable_hist_gradient_boosting\n",
    "from sklearn.ensemble import (RandomForestClassifier,\n",
    "                              AdaBoostClassifier,\n",
    "                              GradientBoostingClassifier,\n",
    "                              HistGradientBoostingClassifier)\n",
    "from xgboost import XGBClassifier\n",
    "# from lightgbm import LGBMClassifier\n",
    "from catboost import CatBoostClassifier\n",
    "import matplotlib.pyplot as plt"
   ]
  },
  {
   "cell_type": "markdown",
   "metadata": {},
   "source": [
    "### Read in data from txt directories (`pos`, `neg`, `train`, `test`)"
   ]
  },
  {
   "cell_type": "code",
   "execution_count": 63,
   "metadata": {},
   "outputs": [],
   "source": [
    "def read_data(split: str, sentiment: str):\n",
    "    dir = os.listdir(f'data/{split}/{sentiment}/') # directory of reviews\n",
    "\n",
    "    review_rating = {}\n",
    "    for file in dir:\n",
    "        rating = file.split(\"_\")[-1].split(\".\")[0] # rating is in the file name\n",
    "        with open(f\"data/{split}/{sentiment}/{file}\") as file:\n",
    "            for line in file:\n",
    "                line = \" \".join(line.split(\"<br />\")) # replace line break symbols with spaces\n",
    "                review_rating[line] = rating\n",
    "    return review_rating"
   ]
  },
  {
   "cell_type": "markdown",
   "metadata": {},
   "source": [
    "### Form `train` and `test` sets"
   ]
  },
  {
   "cell_type": "code",
   "execution_count": 64,
   "metadata": {},
   "outputs": [],
   "source": [
    "pos_train = read_data('train', 'pos')\n",
    "neg_train = read_data('train', 'neg')\n",
    "pos_test = read_data('test', 'neg')\n",
    "neg_test = read_data('test', 'neg')\n",
    "\n",
    "train = pos_train | neg_train\n",
    "test = pos_test | neg_test"
   ]
  },
  {
   "cell_type": "code",
   "execution_count": 65,
   "metadata": {},
   "outputs": [],
   "source": [
    "train_data = pd.DataFrame(data=train.items(), \n",
    "                          index=range(len(train.keys())), \n",
    "                          columns=['Review', 'Rating'])\n",
    "\n",
    "test_data = pd.DataFrame(data=test.items(), \n",
    "                          index=range(len(test.keys())), \n",
    "                          columns=['Review', 'Rating'])"
   ]
  },
  {
   "cell_type": "markdown",
   "metadata": {},
   "source": [
    "#### Download stopwords for vectorizer"
   ]
  },
  {
   "cell_type": "code",
   "execution_count": 66,
   "metadata": {},
   "outputs": [
    {
     "name": "stderr",
     "output_type": "stream",
     "text": [
      "[nltk_data] Downloading package stopwords to\n",
      "[nltk_data]     /Users/rohilk/nltk_data...\n",
      "[nltk_data]   Package stopwords is already up-to-date!\n"
     ]
    }
   ],
   "source": [
    "import nltk\n",
    "from nltk.corpus import stopwords\n",
    "\n",
    "nltk.download('stopwords')\n",
    "stop_words = stopwords.words('english')"
   ]
  },
  {
   "cell_type": "code",
   "execution_count": 74,
   "metadata": {},
   "outputs": [],
   "source": [
    "from sklearn.preprocessing import LabelEncoder\n",
    "encoder = LabelEncoder()\n",
    "\n",
    "X_train = TfidfVectorizer(max_features=100, stop_words=stop_words).fit_transform(train_data.Review).toarray()\n",
    "X_test = TfidfVectorizer(max_features=100, stop_words=stop_words).fit_transform(test_data.Review).toarray()\n",
    "\n",
    "y_train = train_data.Rating\n",
    "y_train = encoder.fit_transform(y_train)\n",
    "y_test = test_data.Rating\n",
    "y_test = encoder.transform(y_test)\n",
    "\n",
    "X_train_sub, X_val, y_train_sub, y_val = train_test_split(X_train, y_train, test_size=0.1)"
   ]
  },
  {
   "cell_type": "code",
   "execution_count": null,
   "metadata": {},
   "outputs": [],
   "source": []
  },
  {
   "cell_type": "markdown",
   "metadata": {},
   "source": [
    "### Building Each Model"
   ]
  },
  {
   "cell_type": "code",
   "execution_count": 86,
   "metadata": {},
   "outputs": [],
   "source": [
    "dtree = DecisionTreeClassifier(max_depth=12, random_state=1234)\n",
    "\n",
    "randfrst = RandomForestClassifier(n_estimators=500,\n",
    "                            max_features=0.06,\n",
    "                            n_jobs=6,\n",
    "                            random_state=1234)\n",
    "\n",
    "mnb = MultinomialNB()\n",
    "\n",
    "dec_stump = DecisionTreeClassifier(max_depth=1, max_features=0.06)                      \n",
    "ab = AdaBoostClassifier(estimator=dec_stump, \n",
    "                        n_estimators=500, \n",
    "                        learning_rate=0.5, \n",
    "                        random_state=1234)\n",
    "\n",
    "gradboost = GradientBoostingClassifier(n_estimators=2000,\n",
    "                                 subsample=0.67,\n",
    "                                 max_features=0.06,\n",
    "                                 validation_fraction=0.1,\n",
    "                                 n_iter_no_change=15,\n",
    "                                 verbose=0,\n",
    "                                 random_state=1234)\n",
    "\n",
    "histgrad = HistGradientBoostingClassifier(max_iter=2000,\n",
    "                                      validation_fraction=0.1,\n",
    "                                      n_iter_no_change=15,\n",
    "                                      verbose=0,\n",
    "                                      random_state=1234)\n",
    "\n",
    "xgb = XGBClassifier(n_estimators=2000,\n",
    "                    tree_method='hist',\n",
    "                    subsample=0.67,\n",
    "                    colsample_level=0.06,\n",
    "                    verbose=0,\n",
    "                    n_jobs=6,\n",
    "                    random_state=1234)\n",
    "\n",
    "# catboost = CatBoostClassifier(n_estimators=2000,\n",
    "#                         colsample_bylevel=0.06,\n",
    "#                         max_leaves=31,\n",
    "#                         subsample=0.67,\n",
    "#                         verbose=0,\n",
    "#                         thread_count=6,\n",
    "#                         random_state=1234)"
   ]
  },
  {
   "cell_type": "markdown",
   "metadata": {},
   "source": [
    "### Model Comparison"
   ]
  },
  {
   "cell_type": "code",
   "execution_count": 89,
   "metadata": {},
   "outputs": [],
   "source": [
    "models = [dtree, randfrst, mnb, ab, gradboost, histgrad, xgb, #catboost\n",
    "]\n",
    "model_names = [i.__class__.__name__ for i in models]"
   ]
  },
  {
   "cell_type": "code",
   "execution_count": 90,
   "metadata": {},
   "outputs": [],
   "source": [
    "earlystops = ['XGBClassifier',\n",
    "             'CatBoostClassifier']"
   ]
  },
  {
   "cell_type": "markdown",
   "metadata": {},
   "source": [
    "### Run Models + Runtime and Manual Accuracy"
   ]
  },
  {
   "cell_type": "code",
   "execution_count": 91,
   "metadata": {},
   "outputs": [
    {
     "name": "stdout",
     "output_type": "stream",
     "text": [
      "[19:02:17] WARNING: /Users/runner/work/xgboost/xgboost/python-package/build/temp.macosx-10.9-x86_64-cpython-38/xgboost/src/learner.cc:767: \n",
      "Parameters: { \"colsample_level\", \"verbose\" } are not used.\n",
      "\n"
     ]
    }
   ],
   "source": [
    "results = pd.DataFrame(columns=['Accuracy', 'Run Time'])\n",
    "\n",
    "for m, n in zip(models, model_names):\n",
    "    \n",
    "    start_time = time()\n",
    "    # if n in earlystops:\n",
    "    #     m.fit(X_train_sub,\n",
    "    #           y_train_sub,\n",
    "    #           eval_set = [(X_val, y_val)],\n",
    "    #           early_stopping_rounds=15,\n",
    "    #           verbose=0)\n",
    "    # else:\n",
    "    m.fit(X_train, y_train)\n",
    "    \n",
    "    run_time = time() - start_time\n",
    "    accuracy = np.mean(m.predict(X_test) == y_test)\n",
    "        \n",
    "    results.loc[n] = [accuracy, run_time]\n",
    "    \n",
    "    del m"
   ]
  },
  {
   "cell_type": "markdown",
   "metadata": {},
   "source": [
    "### Report results"
   ]
  },
  {
   "cell_type": "code",
   "execution_count": 92,
   "metadata": {},
   "outputs": [
    {
     "name": "stdout",
     "output_type": "stream",
     "text": [
      "                                Accuracy    Run Time\n",
      "DecisionTreeClassifier          0.242861    0.604859\n",
      "RandomForestClassifier          0.244317    6.479730\n",
      "MultinomialNB                   0.240272    0.016123\n",
      "AdaBoostClassifier              0.213251    5.667853\n",
      "GradientBoostingClassifier      0.216649   12.838163\n",
      "HistGradientBoostingClassifier  0.211957    4.650105\n",
      "XGBClassifier                   0.188901  355.328899\n"
     ]
    }
   ],
   "source": [
    "print(results)"
   ]
  },
  {
   "cell_type": "code",
   "execution_count": null,
   "metadata": {},
   "outputs": [],
   "source": []
  }
 ],
 "metadata": {
  "kernelspec": {
   "display_name": "base",
   "language": "python",
   "name": "python3"
  },
  "language_info": {
   "codemirror_mode": {
    "name": "ipython",
    "version": 3
   },
   "file_extension": ".py",
   "mimetype": "text/x-python",
   "name": "python",
   "nbconvert_exporter": "python",
   "pygments_lexer": "ipython3",
   "version": "3.9.12"
  },
  "orig_nbformat": 4
 },
 "nbformat": 4,
 "nbformat_minor": 2
}
